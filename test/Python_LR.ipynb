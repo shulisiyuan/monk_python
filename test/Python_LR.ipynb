{
 "cells": [
  {
   "cell_type": "code",
   "execution_count": 2,
   "metadata": {
    "collapsed": true
   },
   "outputs": [],
   "source": [
    "from numpy import *\n",
    "import matplotlib.pyplot as plt"
   ]
  },
  {
   "cell_type": "markdown",
   "metadata": {},
   "source": [
    "# https://blog.csdn.net/chibangyuxun/article/details/53148005"
   ]
  },
  {
   "cell_type": "code",
   "execution_count": 7,
   "metadata": {
    "collapsed": true
   },
   "outputs": [],
   "source": [
    "filename='testSet.txt' #文件目录\n",
    "def loadDataSet():   #读取数据（这里只有两个特征）\n",
    "    dataMat = []\n",
    "    labelMat = []\n",
    "    fr = open(filename)\n",
    "    for line in fr.readlines():\n",
    "        lineArr = line.strip().split()\n",
    "        dataMat.append([1.0, float(lineArr[0]), float(lineArr[1])])   #前面的1，表示方程的常量。比如两个特征X1,X2，共需要三个参数，W1+W2*X1+W3*X2\n",
    "        labelMat.append(int(lineArr[2]))\n",
    "    return dataMat,labelMat"
   ]
  },
  {
   "cell_type": "code",
   "execution_count": 8,
   "metadata": {
    "collapsed": true
   },
   "outputs": [],
   "source": [
    "def sigmoid(inX):  #sigmoid函数\n",
    "    return 1.0/(1+exp(-inX))"
   ]
  },
  {
   "cell_type": "code",
   "execution_count": 9,
   "metadata": {
    "collapsed": true
   },
   "outputs": [],
   "source": [
    "#梯度上升求最优参数\n",
    "def gradAscent(dataMat, labelMat): \n",
    "    dataMatrix=mat(dataMat) #将读取的数据转换为矩阵\n",
    "    classLabels=mat(labelMat).transpose() #将读取的数据转换为矩阵\n",
    "    m,n = shape(dataMatrix)\n",
    "    alpha = 0.001  #设置梯度的阀值，该值越大梯度上升幅度越大\n",
    "    maxCycles = 500 #设置迭代的次数，一般看实际数据进行设定，有些可能200次就够了\n",
    "    weights = ones((n,1)) #设置初始的参数，并都赋默认值为1。注意这里权重以矩阵形式表示三个参数。\n",
    "    for k in range(maxCycles):\n",
    "        h = sigmoid(dataMatrix * weights)\n",
    "        error = (classLabels - h)     #求导后差值\n",
    "        weights = weights + alpha * dataMatrix.transpose()* error #迭代更新权重\n",
    "    return weights"
   ]
  },
  {
   "cell_type": "code",
   "execution_count": 10,
   "metadata": {
    "collapsed": true
   },
   "outputs": [],
   "source": [
    "#随机梯度上升，当数据量比较大时，每次迭代都选择全量数据进行计算，计算量会非常大。所以采用每次迭代中一次只选择其中的一行数据进行更新权重。\n",
    "def stocGradAscent0(dataMat, labelMat):\n",
    "    dataMatrix=mat(dataMat)\n",
    "    classLabels=labelMat\n",
    "    m,n=shape(dataMatrix)\n",
    "    alpha=0.01\n",
    "    maxCycles = 500\n",
    "    weights=ones((n,1))\n",
    "    for k in range(maxCycles):\n",
    "        for i in range(m): #遍历计算每一行\n",
    "            h = sigmoid(sum(dataMatrix[i] * weights))\n",
    "            error = classLabels[i] - h\n",
    "            weights = weights + alpha * error * dataMatrix[i].transpose()\n",
    "    return weights"
   ]
  },
  {
   "cell_type": "code",
   "execution_count": 11,
   "metadata": {
    "collapsed": true
   },
   "outputs": [],
   "source": [
    "#改进版随机梯度上升，在每次迭代中随机选择样本来更新权重，并且随迭代次数增加，权重变化越小。\n",
    "def stocGradAscent1(dataMat, labelMat):\n",
    "    dataMatrix=mat(dataMat)\n",
    "    classLabels=labelMat\n",
    "    m,n=shape(dataMatrix)\n",
    "    weights=ones((n,1))\n",
    "    maxCycles=500\n",
    "    for j in range(maxCycles): #迭代\n",
    "        dataIndex=[i for i in range(m)]\n",
    "        for i in range(m): #随机遍历每一行\n",
    "            alpha=4/(1+j+i)+0.0001  #随迭代次数增加，权重变化越小。\n",
    "            randIndex=int(random.uniform(0,len(dataIndex)))  #随机抽样\n",
    "            h=sigmoid(sum(dataMatrix[randIndex]*weights))\n",
    "            error=classLabels[randIndex]-h\n",
    "            weights=weights + alpha*error*dataMatrix[randIndex].transpose()\n",
    "            del(dataIndex[randIndex]) #去除已经抽取的样本\n",
    "    return weights"
   ]
  },
  {
   "cell_type": "code",
   "execution_count": 20,
   "metadata": {
    "collapsed": true
   },
   "outputs": [],
   "source": [
    "def plotBestFit(weights):  #画出最终分类的图\n",
    "    import matplotlib.pyplot as plt\n",
    "    dataMat,labelMat=loadDataSet()\n",
    "    dataArr = array(dataMat)\n",
    "    n = shape(dataArr)[0]\n",
    "    xcord1 = []; ycord1 = []\n",
    "    xcord2 = []; ycord2 = []\n",
    "    for i in range(n):\n",
    "        if int(labelMat[i])== 1:\n",
    "            xcord1.append(dataArr[i,1])\n",
    "            ycord1.append(dataArr[i,2])\n",
    "        else:\n",
    "            xcord2.append(dataArr[i,1])\n",
    "            ycord2.append(dataArr[i,2])\n",
    "    fig = plt.figure()\n",
    "    ax = fig.add_subplot(111)\n",
    "    ax.scatter(xcord1, ycord1, s=30, c='red', marker='s')\n",
    "    ax.scatter(xcord2, ycord2, s=30, c='green')\n",
    "    x = arange(-3.0, 3.0, 0.1)\n",
    "    y = (-weights[0]-weights[1]*x)/weights[2]\n",
    "#     ax.plot(x, y)\n",
    "    plt.xlabel('X1')\n",
    "    plt.ylabel('X2')\n",
    "    plt.show()"
   ]
  },
  {
   "cell_type": "code",
   "execution_count": 21,
   "metadata": {
    "collapsed": true
   },
   "outputs": [],
   "source": [
    "def main():\n",
    "    dataMat, labelMat = loadDataSet()\n",
    "    weights1=gradAscent(dataMat, labelMat).getA()\n",
    "    print(weights1)\n",
    "    plotBestFit(weights1)\n",
    "    \n",
    "    weights2=stocGradAscent0(dataMat, labelMat).getA()\n",
    "    print(weights2)\n",
    "    plotBestFit(weights2)\n",
    "    \n",
    "    weights3=stocGradAscent1(dataMat, labelMat).getA()\n",
    "    print(weights3)\n",
    "    plotBestFit(weights3)"
   ]
  },
  {
   "cell_type": "code",
   "execution_count": 22,
   "metadata": {},
   "outputs": [
    {
     "name": "stdout",
     "output_type": "stream",
     "text": [
      "[[ 4.12414349]\n",
      " [ 0.48007329]\n",
      " [-0.6168482 ]]\n"
     ]
    },
    {
     "data": {
      "image/png": "[encoded data removed]",
      "text/plain": [
       "<Figure size 432x288 with 1 Axes>"
      ]
     },
     "metadata": {},
     "output_type": "display_data"
    },
    {
     "name": "stdout",
     "output_type": "stream",
     "text": [
      "[[ 9.55333325]\n",
      " [ 0.87771989]\n",
      " [-1.36118565]]\n"
     ]
    },
    {
     "data": {
      "image/png": "[encoded data removed]",
      "text/plain": [
       "<Figure size 432x288 with 1 Axes>"
      ]
     },
     "metadata": {},
     "output_type": "display_data"
    },
    {
     "name": "stdout",
     "output_type": "stream",
     "text": [
      "[[13.99672653]\n",
      " [ 0.97982713]\n",
      " [-1.89058205]]\n"
     ]
    },
    {
     "data": {
      "image/png": "[encoded data removed]",
      "text/plain": [
       "<Figure size 432x288 with 1 Axes>"
      ]
     },
     "metadata": {},
     "output_type": "display_data"
    }
   ],
   "source": [
    "if __name__=='__main__':\n",
    "    main()"
   ]
  },
  {
   "cell_type": "code",
   "execution_count": null,
   "metadata": {
    "collapsed": true
   },
   "outputs": [],
   "source": []
  },
  {
   "cell_type": "code",
   "execution_count": null,
   "metadata": {
    "collapsed": true
   },
   "outputs": [],
   "source": []
  }
 ],
 "metadata": {
  "kernelspec": {
   "display_name": "Python 3",
   "language": "python",
   "name": "python3"
  },
  "language_info": {
   "codemirror_mode": {
    "name": "ipython",
    "version": 3
   },
   "file_extension": ".py",
   "mimetype": "text/x-python",
   "name": "python",
   "nbconvert_exporter": "python",
   "pygments_lexer": "ipython3",
   "version": "3.6.3"
  }
 },
 "nbformat": 4,
 "nbformat_minor": 2
}
